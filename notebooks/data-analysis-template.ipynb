{
 "cells": [
  {
   "cell_type": "markdown",
   "id": "98bf38a3",
   "metadata": {},
   "source": [
    "# Python Fynesse Data Analysis Template\n",
    "\n",
    "### 31st May 2021\n",
    "\n",
    "### Neil D. Lawrence\n",
    "\n",
    "### Updated 31st October 2021\n",
    "\n",
    "This notebook serves as a stub for the fynesse data analysis pipeline.\n"
   ]
  },
  {
   "cell_type": "code",
   "execution_count": 4,
   "id": "3d81c9b5",
   "metadata": {},
   "outputs": [
    {
     "name": "stdout",
     "output_type": "stream",
     "text": [
      "Note: you may need to restart the kernel to use updated packages.\n"
     ]
    },
    {
     "name": "stderr",
     "output_type": "stream",
     "text": [
      "WARNING: Skipping fynesse as it is not installed.\n"
     ]
    },
    {
     "name": "stdout",
     "output_type": "stream",
     "text": [
      "Collecting git+https://github.com/tomdunkley/advanced_data_science_assessment.gitNote: you may need to restart the kernel to use updated packages.\n"
     ]
    },
    {
     "name": "stderr",
     "output_type": "stream",
     "text": [
      "  Running command git clone --filter=blob:none --quiet https://github.com/tomdunkley/advanced_data_science_assessment.git 'C:\\Users\\torna\\AppData\\Local\\Temp\\pip-req-build-_amo_uoc'\n",
      "ERROR: Could not find a version that satisfies the requirement yaml (from ads-assessment) (from versions: none)\n",
      "ERROR: No matching distribution found for yaml\n"
     ]
    },
    {
     "name": "stdout",
     "output_type": "stream",
     "text": [
      "\n",
      "  Cloning https://github.com/tomdunkley/advanced_data_science_assessment.git to c:\\users\\torna\\appdata\\local\\temp\\pip-req-build-_amo_uoc\n",
      "  Resolved https://github.com/tomdunkley/advanced_data_science_assessment.git to commit 6f902e8d371d16d111ba0521b2df39cb43c0014b\n",
      "  Preparing metadata (setup.py): started\n",
      "  Preparing metadata (setup.py): finished with status 'done'\n",
      "Requirement already satisfied: pandas in c:\\users\\torna\\appdata\\local\\packages\\pythonsoftwarefoundation.python.3.8_qbz5n2kfra8p0\\localcache\\local-packages\\python38\\site-packages (from ADS-Assessment==0.1.0) (1.5.2)\n",
      "Requirement already satisfied: numpy in c:\\users\\torna\\appdata\\local\\packages\\pythonsoftwarefoundation.python.3.8_qbz5n2kfra8p0\\localcache\\local-packages\\python38\\site-packages (from ADS-Assessment==0.1.0) (1.23.5)\n",
      "Collecting jupyter\n",
      "  Downloading jupyter-1.0.0-py2.py3-none-any.whl (2.7 kB)\n",
      "Requirement already satisfied: matplotlib in c:\\users\\torna\\appdata\\local\\packages\\pythonsoftwarefoundation.python.3.8_qbz5n2kfra8p0\\localcache\\local-packages\\python38\\site-packages (from ADS-Assessment==0.1.0) (3.6.2)\n",
      "Requirement already satisfied: geopandas in c:\\users\\torna\\appdata\\local\\packages\\pythonsoftwarefoundation.python.3.8_qbz5n2kfra8p0\\localcache\\local-packages\\python38\\site-packages (from ADS-Assessment==0.1.0) (0.12.1)\n",
      "Requirement already satisfied: osmnx in c:\\users\\torna\\appdata\\local\\packages\\pythonsoftwarefoundation.python.3.8_qbz5n2kfra8p0\\localcache\\local-packages\\python38\\site-packages (from ADS-Assessment==0.1.0) (1.2.2)\n",
      "Collecting PyMySQL\n",
      "  Downloading PyMySQL-1.0.2-py3-none-any.whl (43 kB)\n",
      "     ---------------------------------------- 43.8/43.8 kB 2.1 MB/s eta 0:00:00\n",
      "Collecting ipython-sql\n",
      "  Downloading ipython_sql-0.4.1-py3-none-any.whl (21 kB)\n"
     ]
    }
   ],
   "source": [
    "%pip uninstall --yes fynesse\n",
    "# Replace this with the location of your fynesse implementation.\n",
    "%pip install git+https://github.com/tomdunkley/advanced_data_science_assessment.git\n"
   ]
  },
  {
   "cell_type": "code",
   "execution_count": 3,
   "id": "3f2a9043",
   "metadata": {},
   "outputs": [
    {
     "ename": "ImportError",
     "evalue": "attempted relative import with no known parent package",
     "output_type": "error",
     "traceback": [
      "\u001b[1;31m---------------------------------------------------------------------------\u001b[0m",
      "\u001b[1;31mImportError\u001b[0m                               Traceback (most recent call last)",
      "Cell \u001b[1;32mIn[3], line 1\u001b[0m\n\u001b[1;32m----> 1\u001b[0m \u001b[39mfrom\u001b[39;00m \u001b[39m.\u001b[39;00m \u001b[39mimport\u001b[39;00m fynesse\n",
      "\u001b[1;31mImportError\u001b[0m: attempted relative import with no known parent package"
     ]
    }
   ],
   "source": [
    "import fynesse"
   ]
  },
  {
   "cell_type": "code",
   "execution_count": null,
   "id": "332048de",
   "metadata": {},
   "outputs": [],
   "source": [
    "fynesse.access.config['data_url']"
   ]
  },
  {
   "cell_type": "code",
   "execution_count": null,
   "id": "d30ff51b",
   "metadata": {},
   "outputs": [],
   "source": []
  }
 ],
 "metadata": {
  "kernelspec": {
   "display_name": "Python 3.8.10 64-bit (microsoft store)",
   "language": "python",
   "name": "python3"
  },
  "language_info": {
   "codemirror_mode": {
    "name": "ipython",
    "version": 3
   },
   "file_extension": ".py",
   "mimetype": "text/x-python",
   "name": "python",
   "nbconvert_exporter": "python",
   "pygments_lexer": "ipython3",
   "version": "3.8.10"
  },
  "vscode": {
   "interpreter": {
    "hash": "d66b204eeb4494065609bda42dffe39e94d9e5165c9e90977bac278a4412f026"
   }
  }
 },
 "nbformat": 4,
 "nbformat_minor": 5
}
